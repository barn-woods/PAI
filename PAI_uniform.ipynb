{
 "cells": [
  {
   "cell_type": "code",
   "execution_count": 1,
   "id": "403e93af-dad5-47ae-af03-3c96184ea8ae",
   "metadata": {},
   "outputs": [],
   "source": [
    "import pandas as pd"
   ]
  },
  {
   "cell_type": "code",
   "execution_count": 10,
   "id": "a015b0fc-aa6c-4e2b-8dd7-d41566a5541c",
   "metadata": {},
   "outputs": [
    {
     "name": "stderr",
     "output_type": "stream",
     "text": [
      "C:\\Users\\LRT0373\\AppData\\Local\\Temp\\ipykernel_14952\\3273018689.py:1: DtypeWarning: Columns (11) have mixed types. Specify dtype option on import or set low_memory=False.\n",
      "  uni = pd.read_csv('uni.csv')\n"
     ]
    },
    {
     "data": {
      "text/html": [
       "<div>\n",
       "<style scoped>\n",
       "    .dataframe tbody tr th:only-of-type {\n",
       "        vertical-align: middle;\n",
       "    }\n",
       "\n",
       "    .dataframe tbody tr th {\n",
       "        vertical-align: top;\n",
       "    }\n",
       "\n",
       "    .dataframe thead th {\n",
       "        text-align: right;\n",
       "    }\n",
       "</style>\n",
       "<table border=\"1\" class=\"dataframe\">\n",
       "  <thead>\n",
       "    <tr style=\"text-align: right;\">\n",
       "      <th></th>\n",
       "      <th>originating-authority-charge-identifier</th>\n",
       "      <th>local-land-charge</th>\n",
       "      <th>statutory-provision</th>\n",
       "      <th>instrument</th>\n",
       "      <th>charge-creation-date</th>\n",
       "      <th>originating-authority</th>\n",
       "      <th>further-information-location</th>\n",
       "      <th>registration-date</th>\n",
       "      <th>charge-geographic-description</th>\n",
       "      <th>charge-address</th>\n",
       "      <th>...</th>\n",
       "      <th>land-capacity-description</th>\n",
       "      <th>land-compensation-amount-type</th>\n",
       "      <th>land-compensation-paid</th>\n",
       "      <th>amount-of-compensation</th>\n",
       "      <th>author</th>\n",
       "      <th>schema-version</th>\n",
       "      <th>geometry</th>\n",
       "      <th>image-name</th>\n",
       "      <th>error_message</th>\n",
       "      <th>version-id</th>\n",
       "    </tr>\n",
       "  </thead>\n",
       "  <tbody>\n",
       "    <tr>\n",
       "      <th>41292</th>\n",
       "      <td>uniformkeyval-R7193KPN0B900</td>\n",
       "      <td>NaN</td>\n",
       "      <td>NaN</td>\n",
       "      <td>NaN</td>\n",
       "      <td>2022-05-03</td>\n",
       "      <td>NaN</td>\n",
       "      <td>NaN</td>\n",
       "      <td>2022-05-10</td>\n",
       "      <td>Middle Farm, Middleyard, Kings Stanley, Stoneh...</td>\n",
       "      <td>NaN</td>\n",
       "      <td>...</td>\n",
       "      <td>NaN</td>\n",
       "      <td>NaN</td>\n",
       "      <td>NaN</td>\n",
       "      <td>NaN</td>\n",
       "      <td>{'full-name': 'Initial load', 'organisation': ...</td>\n",
       "      <td>6.0</td>\n",
       "      <td>{'features': [{'geometry': {'coordinates': [[[...</td>\n",
       "      <td>NaN</td>\n",
       "      <td>NaN</td>\n",
       "      <td>NaN</td>\n",
       "    </tr>\n",
       "  </tbody>\n",
       "</table>\n",
       "<p>1 rows × 42 columns</p>\n",
       "</div>"
      ],
      "text/plain": [
       "      originating-authority-charge-identifier  local-land-charge  \\\n",
       "41292             uniformkeyval-R7193KPN0B900                NaN   \n",
       "\n",
       "       statutory-provision  instrument charge-creation-date  \\\n",
       "41292                  NaN         NaN           2022-05-03   \n",
       "\n",
       "       originating-authority  further-information-location registration-date  \\\n",
       "41292                    NaN                           NaN        2022-05-10   \n",
       "\n",
       "                           charge-geographic-description  charge-address  ...  \\\n",
       "41292  Middle Farm, Middleyard, Kings Stanley, Stoneh...             NaN  ...   \n",
       "\n",
       "      land-capacity-description land-compensation-amount-type  \\\n",
       "41292                       NaN                           NaN   \n",
       "\n",
       "       land-compensation-paid  amount-of-compensation  \\\n",
       "41292                     NaN                     NaN   \n",
       "\n",
       "                                                  author schema-version  \\\n",
       "41292  {'full-name': 'Initial load', 'organisation': ...            6.0   \n",
       "\n",
       "                                                geometry  image-name  \\\n",
       "41292  {'features': [{'geometry': {'coordinates': [[[...         NaN   \n",
       "\n",
       "       error_message version-id  \n",
       "41292            NaN        NaN  \n",
       "\n",
       "[1 rows x 42 columns]"
      ]
     },
     "execution_count": 10,
     "metadata": {},
     "output_type": "execute_result"
    }
   ],
   "source": [
    "uni = pd.read_csv('uni.csv')\n",
    "uni.sample(1)"
   ]
  },
  {
   "cell_type": "code",
   "execution_count": 14,
   "id": "ec905bd2-0a3a-4315-bfb6-6158b50c42e8",
   "metadata": {},
   "outputs": [
    {
     "data": {
      "text/html": [
       "<div>\n",
       "<style scoped>\n",
       "    .dataframe tbody tr th:only-of-type {\n",
       "        vertical-align: middle;\n",
       "    }\n",
       "\n",
       "    .dataframe tbody tr th {\n",
       "        vertical-align: top;\n",
       "    }\n",
       "\n",
       "    .dataframe thead th {\n",
       "        text-align: right;\n",
       "    }\n",
       "</style>\n",
       "<table border=\"1\" class=\"dataframe\">\n",
       "  <thead>\n",
       "    <tr style=\"text-align: right;\">\n",
       "      <th></th>\n",
       "      <th>originating_authority_charge_identifier</th>\n",
       "      <th>Year</th>\n",
       "    </tr>\n",
       "  </thead>\n",
       "  <tbody>\n",
       "    <tr>\n",
       "      <th>10698</th>\n",
       "      <td>uniformkeyval-MSYBXEPN01A00</td>\n",
       "      <td>2013</td>\n",
       "    </tr>\n",
       "  </tbody>\n",
       "</table>\n",
       "</div>"
      ],
      "text/plain": [
       "      originating_authority_charge_identifier  Year\n",
       "10698             uniformkeyval-MSYBXEPN01A00  2013"
      ]
     },
     "execution_count": 14,
     "metadata": {},
     "output_type": "execute_result"
    }
   ],
   "source": [
    "dashboard_uni = pd.read_csv('Stroud District Council Dashboard Spatial Uni.csv', skiprows=1)\n",
    "dashboard_uni.sample(1)"
   ]
  },
  {
   "cell_type": "code",
   "execution_count": 18,
   "id": "2bfb438e-d80e-41b0-af28-f5eafa39d6d9",
   "metadata": {},
   "outputs": [],
   "source": [
    "merge = uni.merge(dashboard_uni, left_on= 'originating-authority-charge-identifier', right_on='originating_authority_charge_identifier')"
   ]
  },
  {
   "cell_type": "code",
   "execution_count": 20,
   "id": "be36079a-1393-4d04-b0be-04226477b1a4",
   "metadata": {},
   "outputs": [],
   "source": [
    "merge.to_csv('uni_pai.csv', index=False)"
   ]
  }
 ],
 "metadata": {
  "kernelspec": {
   "display_name": "Python 3 (ipykernel)",
   "language": "python",
   "name": "python3"
  },
  "language_info": {
   "codemirror_mode": {
    "name": "ipython",
    "version": 3
   },
   "file_extension": ".py",
   "mimetype": "text/x-python",
   "name": "python",
   "nbconvert_exporter": "python",
   "pygments_lexer": "ipython3",
   "version": "3.10.10"
  }
 },
 "nbformat": 4,
 "nbformat_minor": 5
}
